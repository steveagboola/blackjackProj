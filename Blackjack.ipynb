{
 "cells": [
  {
   "cell_type": "markdown",
   "metadata": {},
   "source": [
    "## Python Blackjack\n",
    "For this project you will make a Blackjack game using Python. Click <a href=\"http://www.hitorstand.net/strategy.php\">here</a> to familiarize yourself with the the rules of the game. You won't be implementing every rule \"down to the letter\" with the game, but we will doing a simpler version of the game. This assignment will be given to further test your knowledge on object-oriented programming concepts.\n",
    "\n",
    "### Rules:\n",
    "\n",
    "`1. ` The game will have two players: the Dealer and the Player. The game will start off with a deck of 52 cards. The 52 cards will consist of 4 different suits: Clubs, Diamonds, Hearts and Spades. For each suit, there will be cards numbered 1 through 13. <br>\n",
    "**Note: No wildcards will be used in the program**\n",
    "\n",
    "`2. ` When the game begins, the dealer will shuffle the deck of cards, making them randomized. After the dealer shuffles, it will deal the player 2 cards and will deal itself 2 cards from. The Player should be able to see both of their own cards, but should only be able to see one of the Dealer's cards.\n",
    " \n",
    "`3. ` The objective of the game is for the Player to count their cards after they're dealt. If they're not satisfied with the number, they have the ability to 'Hit'. A hit allows the dealer to deal the Player one additional card. The Player can hit as many times as they'd like as long as they don't 'Bust'. A bust is when the Player is dealt cards that total more than 21.\n",
    "\n",
    "`4. ` If the dealer deals the Player cards equal to 21 on the **first** deal, the Player wins. This is referred to as Blackjack. Blackjack is **NOT** the same as getting cards that equal up to 21 after the first deal. Blackjack can only be attained on the first deal.\n",
    "\n",
    "`5. ` The Player will never see the Dealer's hand until the Player chooses to 'stand'. A Stand is when the player tells the dealer to not deal it anymore cards. Once the player chooses to Stand, the Player and the Dealer will compare their hands. Whoever has the higher number wins. Keep in mind that the Dealer can also bust. "
   ]
  },
  {
   "cell_type": "markdown",
   "metadata": {},
   "source": []
  },
  {
   "cell_type": "raw",
   "metadata": {
    "scrolled": true
   },
   "source": [
    "Dont have to worry about betting, doubling, spliting.\n",
    "\n"
   ]
  },
  {
   "cell_type": "code",
   "execution_count": 31,
   "metadata": {},
   "outputs": [
    {
     "name": "stdout",
     "output_type": "stream",
     "text": [
      "Your cards are: [10, 10], Your current score is: 20\n",
      "Dealers first card is: 5\n",
      " Your final hand: [10, 10], final score: 20\n",
      " Computer's final hand: [5, 10, 10], final score: 25\n",
      "Dealer went over. You Win\n"
     ]
    }
   ],
   "source": [
    "import random\n",
    "\n",
    "\n",
    "\n",
    "\n",
    "def house_deals():\n",
    "    # Create deck of cards\n",
    "    deck_of_cards = {\n",
    "    \"cards_clubs\": [11, 2, 3, 4, 5, 6, 7, 8, 9, 10, 10, 10, 10],\n",
    "    \"cards_diamonds\": [11, 2, 3, 4, 5, 6, 7, 8, 9, 10, 10, 10, 10],\n",
    "    \"cards_hearts\": [11, 2, 3, 4, 5, 6, 7, 8, 9, 10, 10, 10, 10],\n",
    "    \"cards_spades\": [11, 2, 3, 4, 5, 6, 7, 8, 9, 10, 10, 10, 10],\n",
    "}\n",
    "    suit = random.choice(list(deck_of_cards.keys()))\n",
    "    card = random.choice(deck_of_cards[suit])\n",
    "    return card\n",
    "    \n",
    "#     players_card = []\n",
    "#     dealers_card = []\n",
    "    \n",
    "\n",
    "\n",
    "def calc_score(deck_of_cards):\n",
    "    blackjack = sum(deck_of_cards) == 21 and len(deck_of_cards) == 2\n",
    "\n",
    "    if blackjack:\n",
    "        print(f\"Congrats: BLACKJACK\")\n",
    "        return 0 #needed to be int.  Does now work when i return blackjack\n",
    "\n",
    "    if 11 in deck_of_cards and sum(deck_of_cards) > 21:\n",
    "        deck_of_cards.remove(11)\n",
    "        deck_of_cards.append(1)\n",
    "    return sum(deck_of_cards)\n",
    "\n",
    "def compare(player_score, dealer_score):\n",
    "\n",
    "    if player_score > 21 and dealer_score > 21:\n",
    "        return \"You went over. You lose \"\n",
    "    if player_score == dealer_score:\n",
    "        return \"Its a tie\"\n",
    "    elif dealer_score == 0:\n",
    "        return \"Dealer has a Blackjack: You Loose\"\n",
    "    elif player_score == 0:\n",
    "        return \"Blackjack: You Win\"\n",
    "    elif player_score > 21:\n",
    "        return \"You went over. You Lose\"\n",
    "    elif dealer_score > 21:\n",
    "        return \"Dealer went over. You Win\"\n",
    "    elif player_score > dealer_score:\n",
    "        return \"You win\"\n",
    "    else:\n",
    "        return \"You lose\"\n",
    "\n",
    "\n",
    "def play():\n",
    "    players_card = []\n",
    "    dealers_card = []\n",
    "    game_over = False\n",
    "\n",
    "    for deal in range(2):\n",
    "        players_card.append(house_deals())\n",
    "        dealers_card.append(house_deals())\n",
    "\n",
    "    while not game_over:\n",
    "        player_score = calc_score(players_card)\n",
    "        dealer_score = calc_score(dealers_card)\n",
    "        print(f\"Your cards are: {players_card}, Your current score is: {player_score}\")\n",
    "        print(f\"Dealers first card is: {dealers_card[0]}\")\n",
    "\n",
    "        if player_score == 0 or dealer_score == 0 or player_score > 21:\n",
    "            game_over = True\n",
    "        else:\n",
    "            hit_or_no = input(\"Type 'y' to get another card, type 'n' to stay\").lower()\n",
    "            if hit_or_no == \"y\":\n",
    "                players_card.append(house_deals())\n",
    "            else:\n",
    "                game_over = True\n",
    "\n",
    "\n",
    "    while dealer_score != 0 and dealer_score < 17:\n",
    "        dealers_card.append(house_deals())\n",
    "        dealer_score = calc_score(dealers_card)\n",
    "\n",
    "    print(f\" Your final hand: {players_card}, final score: {player_score}\")\n",
    "    print(f\" Computer's final hand: {dealers_card}, final score: {dealer_score}\")\n",
    "    print(compare(player_score, dealer_score))\n",
    "\n",
    "    if input(\"Do you want to play again? Type 'y' for yes, 'n' for no: \").lower() == \"y\":\n",
    "        play()\n",
    "   \n",
    "while input(\"Do you want to play a game of Blackjack? Type 'y' or 'n': \").lower() == \"y\":\n",
    "    play()\n",
    "\n",
    "\n",
    "\n"
   ]
  },
  {
   "cell_type": "code",
   "execution_count": null,
   "metadata": {},
   "outputs": [],
   "source": []
  }
 ],
 "metadata": {
  "kernelspec": {
   "display_name": "Python 3",
   "language": "python",
   "name": "python3"
  },
  "language_info": {
   "codemirror_mode": {
    "name": "ipython",
    "version": 3
   },
   "file_extension": ".py",
   "mimetype": "text/x-python",
   "name": "python",
   "nbconvert_exporter": "python",
   "pygments_lexer": "ipython3",
   "version": "3.11.5"
  }
 },
 "nbformat": 4,
 "nbformat_minor": 2
}
